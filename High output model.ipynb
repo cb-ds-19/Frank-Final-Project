{
 "cells": [
  {
   "cell_type": "code",
   "execution_count": 1,
   "id": "1a921b39-9ea8-4659-9e2b-fe3bb2a7b93d",
   "metadata": {},
   "outputs": [],
   "source": [
    "import os\n",
    "import time\n",
    "from obspy import read, Stream, Trace\n",
    "from obspy.clients.fdsn import Client\n",
    "from obspy import UTCDateTime\n",
    "import matplotlib.pyplot as plt\n",
    "\n",
    "import numpy as np\n",
    "import pandas as pd\n",
    "import tensorflow as tf\n",
    "from tensorflow.keras.models import Sequential\n",
    "from tensorflow.keras.layers import LSTM, Dense, Dropout, BatchNormalization\n",
    "from sklearn.preprocessing import MinMaxScaler\n",
    "\n",
    "from sklearn.metrics import mean_absolute_percentage_error, mean_absolute_error, mean_squared_error\n",
    "from keras.models import load_model\n",
    "from tensorflow.keras.callbacks import ModelCheckpoint"
   ]
  },
  {
   "cell_type": "code",
   "execution_count": 2,
   "id": "bd58d6c1-01aa-491a-b061-a9122f4eb531",
   "metadata": {},
   "outputs": [],
   "source": [
    "def generate_predictions(window, model, look_back, num_iterations=1000):\n",
    "    # Normalise and  Reshape the initial window\n",
    "    window = scale_data(window, scaler)\n",
    "    window = np.reshape(window, (1, look_back, 1))\n",
    "    \n",
    "\n",
    "    # Pre-allocate the array to store all windows\n",
    "    all_windows = np.zeros((num_iterations, look_back, 1))\n",
    "\n",
    "    # Fill the first window\n",
    "    all_windows[0] = window\n",
    "\n",
    "    # Initialize the predictions list\n",
    "    predictions = []\n",
    "\n",
    "    # Loop to add predicted values\n",
    "    for i in range(0, num_iterations-1):\n",
    "        predicted_value = model.predict(all_windows[i:i+1])  # Example predicted value\n",
    "        predictions.append(predicted_value[0])\n",
    "        predicted_value = predicted_value.reshape(1, 1, 1)  # Ensure shape is (1, 1, 1)\n",
    "        new_window = np.concatenate((all_windows[i:i+1], predicted_value), axis=1)\n",
    "        all_windows[i+1] = new_window[:, -look_back:, :]  # Keep the last 100 elements\n",
    "\n",
    "    predictions = inverse_scaler(predictions, scaler)\n",
    "    return predictions"
   ]
  },
  {
   "cell_type": "code",
   "execution_count": 3,
   "id": "c7e3da43-5a02-484a-bf54-97eb1fdee85c",
   "metadata": {},
   "outputs": [],
   "source": [
    "def get_data(st):\n",
    "    \"\"\"Take a stream, fill gap with interpolate  and return  data\"\"\"\n",
    "    st =  st.merge(method=1, fill_value='interpolate')\n",
    "    tr = st[0]\n",
    "    data = tr.data.astype(np.float32).reshape(-1, 1)\n",
    "    return data"
   ]
  },
  {
   "cell_type": "code",
   "execution_count": 4,
   "id": "89e91f47-b672-4429-98b8-7528d4d07ffb",
   "metadata": {},
   "outputs": [],
   "source": [
    "def create_windowed_dataset(data, look_back=1, horizon=1, batch_size=32, shift=1):\n",
    "    # Normalize the dataset\n",
    "    dataset = data.reshape(-1, 1)\n",
    "    dataset = scaler.transform(dataset)\n",
    "    \n",
    "    # Create a TensorFlow dataset\n",
    "    dataset = tf.data.Dataset.from_tensor_slices(dataset)\n",
    "    \n",
    "    # Create windows\n",
    "    dataset = dataset.window(look_back + horizon, shift=shift, drop_remainder=True)\n",
    "    dataset = dataset.flat_map(lambda window: window.batch(look_back+ horizon))\n",
    "    \n",
    "    # Split into input and output\n",
    "    dataset = dataset.map(lambda window: (window[:-horizon], window[-horizon:]))\n",
    "    \n",
    "    # batch the dataset\n",
    "    dataset = dataset.batch(batch_size).prefetch(buffer_size=tf.data.AUTOTUNE)\n",
    "    \n",
    "    return dataset"
   ]
  },
  {
   "cell_type": "code",
   "execution_count": 5,
   "id": "687bced7-1665-48f2-ab98-13a3a6737b26",
   "metadata": {},
   "outputs": [],
   "source": [
    "\n",
    "def fit_scaler(data):\n",
    "    scaler = MinMaxScaler(feature_range=(0, 1))\n",
    "    data = data.reshape(-1, 1)\n",
    "    scaler.fit(data)\n",
    "    return scaler\n",
    "\n",
    "def scale_data(data, scaler):\n",
    "    scaled_data = scaler.transform(data)\n",
    "    return scaled_data\n",
    "\n",
    "def inverse_scaler(scaled_data, scaler):\n",
    "    restored_data = scaler.inverse_transform(scaled_data)\n",
    "    return restored_data"
   ]
  },
  {
   "cell_type": "code",
   "execution_count": 6,
   "id": "fca767f6-b80c-4c14-bd34-a9fb04d77d93",
   "metadata": {},
   "outputs": [],
   "source": [
    "#Full Year\n",
    "st = read(\"Data/MX_MOIG_BHZ_2023-01-01_2024-01-01.mseed\")"
   ]
  },
  {
   "cell_type": "code",
   "execution_count": 7,
   "id": "c524ed45-f94c-4b21-932b-5879edfd0fc0",
   "metadata": {},
   "outputs": [],
   "source": [
    "data = get_data(st)"
   ]
  },
  {
   "cell_type": "code",
   "execution_count": 8,
   "id": "cf7e2164-5723-4df2-b149-3a9588919809",
   "metadata": {},
   "outputs": [],
   "source": [
    "scaler = fit_scaler(data)"
   ]
  },
  {
   "cell_type": "code",
   "execution_count": 9,
   "id": "3c8a89e5-75e3-498f-8347-eb674d6a2d2f",
   "metadata": {},
   "outputs": [],
   "source": [
    "# Split the data into training and testing sets\n",
    "train_size = int(len(data) * 0.8)\n",
    "train_data = data[:train_size]\n",
    "test_data = data[train_size:]"
   ]
  },
  {
   "cell_type": "code",
   "execution_count": 14,
   "id": "c98800f9-3fc4-4e78-8a7d-2c9ac52d8891",
   "metadata": {},
   "outputs": [],
   "source": [
    "look_back = 6000\n",
    "batch_size = 64\n",
    "shift = 1\n",
    "horizon = 1000"
   ]
  },
  {
   "cell_type": "code",
   "execution_count": 15,
   "id": "588e2fe7-6e83-4911-8d28-6981ff3c6ce6",
   "metadata": {},
   "outputs": [],
   "source": [
    "train_dataset = create_windowed_dataset(\n",
    "    train_data, look_back, horizon, batch_size, shift\n",
    ")\n",
    "validation_dataset = create_windowed_dataset(\n",
    "    test_data, look_back, horizon, batch_size, shift\n",
    ")"
   ]
  },
  {
   "cell_type": "code",
   "execution_count": 17,
   "id": "19d6bd7e-7c51-4ef2-a174-a0ee6f702260",
   "metadata": {},
   "outputs": [
    {
     "data": {
      "text/plain": [
       "1313"
      ]
     },
     "execution_count": 17,
     "metadata": {},
     "output_type": "execute_result"
    }
   ],
   "source": [
    "max_steps = (len(train_data)//(look_back*batch_size))-1\n",
    "max_steps"
   ]
  },
  {
   "cell_type": "code",
   "execution_count": 21,
   "id": "a3ae95ee-2e12-4f3e-a2cb-b454e17011ad",
   "metadata": {},
   "outputs": [
    {
     "name": "stdout",
     "output_type": "stream",
     "text": [
      "Epoch 1/100\n",
      "1000/1000 [==============================] - 870s 866ms/step - loss: 10.9096 - val_loss: 0.8462\n",
      "Epoch 2/100\n",
      "1000/1000 [==============================] - 856s 856ms/step - loss: 0.3329 - val_loss: 0.1262\n",
      "Epoch 3/100\n",
      "1000/1000 [==============================] - 850s 850ms/step - loss: 0.2147 - val_loss: 0.3096\n",
      "Epoch 4/100\n",
      "1000/1000 [==============================] - 853s 853ms/step - loss: 0.2204 - val_loss: 0.1764\n",
      "Epoch 5/100\n",
      "1000/1000 [==============================] - 847s 847ms/step - loss: 0.1844 - val_loss: 0.0314\n",
      "Epoch 6/100\n",
      "1000/1000 [==============================] - 891s 891ms/step - loss: 0.1877 - val_loss: 0.1724\n",
      "Epoch 7/100\n",
      "1000/1000 [==============================] - 864s 864ms/step - loss: 0.1638 - val_loss: 0.1504\n",
      "Epoch 8/100\n",
      "1000/1000 [==============================] - 870s 870ms/step - loss: 0.1478 - val_loss: 0.1686\n",
      "Epoch 9/100\n",
      "1000/1000 [==============================] - 900s 901ms/step - loss: 0.1588 - val_loss: 0.1584\n",
      "Epoch 10/100\n",
      "1000/1000 [==============================] - 909s 909ms/step - loss: 0.1452 - val_loss: 0.1339\n",
      "Epoch 11/100\n",
      "1000/1000 [==============================] - 897s 897ms/step - loss: 0.1340 - val_loss: 0.1415\n",
      "Epoch 12/100\n",
      "1000/1000 [==============================] - 890s 890ms/step - loss: 0.1407 - val_loss: 0.1402\n",
      "Epoch 13/100\n",
      "1000/1000 [==============================] - 894s 894ms/step - loss: 0.1340 - val_loss: 0.1279\n",
      "Epoch 14/100\n",
      "1000/1000 [==============================] - 874s 874ms/step - loss: 0.1282 - val_loss: 0.1208\n",
      "Epoch 15/100\n",
      "1000/1000 [==============================] - 833s 833ms/step - loss: 0.1238 - val_loss: 0.1244\n",
      "Epoch 16/100\n",
      "1000/1000 [==============================] - 853s 853ms/step - loss: 0.1208 - val_loss: 0.1204\n",
      "Epoch 17/100\n",
      "1000/1000 [==============================] - 843s 844ms/step - loss: 0.1200 - val_loss: 0.1134\n",
      "Epoch 18/100\n",
      "1000/1000 [==============================] - 847s 847ms/step - loss: 0.1190 - val_loss: 0.1217\n",
      "Epoch 19/100\n",
      "1000/1000 [==============================] - 853s 853ms/step - loss: 0.1157 - val_loss: 0.1166\n",
      "Epoch 20/100\n",
      "1000/1000 [==============================] - 834s 834ms/step - loss: 0.1143 - val_loss: 0.1164\n",
      "Epoch 21/100\n",
      "1000/1000 [==============================] - 827s 827ms/step - loss: 0.1131 - val_loss: 0.1131\n",
      "Epoch 22/100\n",
      "1000/1000 [==============================] - 858s 858ms/step - loss: 0.1109 - val_loss: 0.1081\n",
      "Epoch 23/100\n",
      "1000/1000 [==============================] - 856s 856ms/step - loss: 0.1099 - val_loss: 0.1145\n",
      "Epoch 24/100\n",
      "1000/1000 [==============================] - 845s 845ms/step - loss: 0.1067 - val_loss: 0.1110\n",
      "Epoch 25/100\n",
      "1000/1000 [==============================] - 845s 845ms/step - loss: 0.1055 - val_loss: 0.1075\n",
      "Epoch 26/100\n",
      "1000/1000 [==============================] - 854s 854ms/step - loss: 0.1041 - val_loss: 0.1114\n",
      "Epoch 27/100\n",
      "1000/1000 [==============================] - 826s 826ms/step - loss: 0.1047 - val_loss: 0.1045\n",
      "Epoch 28/100\n",
      "1000/1000 [==============================] - 839s 839ms/step - loss: 0.1011 - val_loss: 0.0975\n",
      "Epoch 29/100\n",
      "1000/1000 [==============================] - 835s 835ms/step - loss: 0.1007 - val_loss: 0.0951\n",
      "Epoch 30/100\n",
      "1000/1000 [==============================] - 830s 830ms/step - loss: 0.0994 - val_loss: 0.0965\n",
      "Epoch 31/100\n",
      "1000/1000 [==============================] - 859s 859ms/step - loss: 0.0979 - val_loss: 0.1080\n",
      "Epoch 32/100\n",
      "1000/1000 [==============================] - 846s 846ms/step - loss: 0.0967 - val_loss: 0.1035\n",
      "Epoch 33/100\n",
      "1000/1000 [==============================] - 829s 829ms/step - loss: 0.0967 - val_loss: 0.0974\n",
      "Epoch 34/100\n",
      "1000/1000 [==============================] - 844s 844ms/step - loss: 0.0959 - val_loss: 0.0898\n",
      "Epoch 35/100\n",
      "1000/1000 [==============================] - 833s 833ms/step - loss: 0.0938 - val_loss: 0.0882\n",
      "Epoch 36/100\n",
      "1000/1000 [==============================] - 840s 840ms/step - loss: 0.0947 - val_loss: 0.0940\n",
      "Epoch 37/100\n",
      "1000/1000 [==============================] - 849s 849ms/step - loss: 0.0914 - val_loss: 0.0874\n",
      "Epoch 38/100\n",
      "1000/1000 [==============================] - 867s 867ms/step - loss: 0.0957 - val_loss: 0.0866\n",
      "Epoch 39/100\n",
      "1000/1000 [==============================] - 835s 835ms/step - loss: 0.0890 - val_loss: 0.0904\n",
      "Epoch 40/100\n",
      "1000/1000 [==============================] - 846s 846ms/step - loss: 0.0920 - val_loss: 0.0855\n",
      "Epoch 41/100\n",
      "1000/1000 [==============================] - 911s 911ms/step - loss: 0.0895 - val_loss: 0.0825\n",
      "Epoch 42/100\n",
      "1000/1000 [==============================] - 884s 884ms/step - loss: 0.0854 - val_loss: 0.0916\n",
      "Epoch 43/100\n",
      " 544/1000 [===============>..............] - ETA: 6:53 - loss: 0.0852"
     ]
    },
    {
     "ename": "KeyboardInterrupt",
     "evalue": "",
     "output_type": "error",
     "traceback": [
      "\u001b[1;31m---------------------------------------------------------------------------\u001b[0m",
      "\u001b[1;31mKeyboardInterrupt\u001b[0m                         Traceback (most recent call last)",
      "Cell \u001b[1;32mIn[21], line 30\u001b[0m\n\u001b[0;32m     26\u001b[0m validation_steps\u001b[38;5;241m=\u001b[39m \u001b[38;5;241m5\u001b[39m\n\u001b[0;32m     29\u001b[0m \u001b[38;5;66;03m# Train the model using the generator\u001b[39;00m\n\u001b[1;32m---> 30\u001b[0m \u001b[43mmodel\u001b[49m\u001b[38;5;241;43m.\u001b[39;49m\u001b[43mfit\u001b[49m\u001b[43m(\u001b[49m\u001b[43mtrain_dataset\u001b[49m\u001b[43m,\u001b[49m\n\u001b[0;32m     31\u001b[0m \u001b[43m    \u001b[49m\u001b[43mepochs\u001b[49m\u001b[38;5;241;43m=\u001b[39;49m\u001b[38;5;241;43m100\u001b[39;49m\u001b[43m,\u001b[49m\n\u001b[0;32m     32\u001b[0m \u001b[43m    \u001b[49m\u001b[43mcallbacks\u001b[49m\u001b[38;5;241;43m=\u001b[39;49m\u001b[43m[\u001b[49m\u001b[43mcheckpoint_callback\u001b[49m\u001b[43m]\u001b[49m\u001b[43m,\u001b[49m\n\u001b[0;32m     33\u001b[0m \u001b[43m    \u001b[49m\u001b[43mverbose\u001b[49m\u001b[38;5;241;43m=\u001b[39;49m\u001b[43m \u001b[49m\u001b[38;5;241;43m1\u001b[39;49m\u001b[43m,\u001b[49m\n\u001b[0;32m     34\u001b[0m \u001b[43m    \u001b[49m\u001b[43msteps_per_epoch\u001b[49m\u001b[43m \u001b[49m\u001b[38;5;241;43m=\u001b[39;49m\u001b[43m \u001b[49m\u001b[43msteps_per_epoch\u001b[49m\u001b[43m,\u001b[49m\n\u001b[0;32m     35\u001b[0m \u001b[43m    \u001b[49m\u001b[43mvalidation_data\u001b[49m\u001b[38;5;241;43m=\u001b[39;49m\u001b[43mtest_dataset\u001b[49m\u001b[43m,\u001b[49m\n\u001b[0;32m     36\u001b[0m \u001b[43m    \u001b[49m\u001b[43mvalidation_steps\u001b[49m\u001b[38;5;241;43m=\u001b[39;49m\u001b[43mvalidation_steps\u001b[49m\u001b[43m,\u001b[49m\n\u001b[0;32m     37\u001b[0m \u001b[43m          \u001b[49m\u001b[43m)\u001b[49m\n",
      "File \u001b[1;32m~\\anaconda3\\envs\\obspy_python38\\lib\\site-packages\\keras\\engine\\training.py:1184\u001b[0m, in \u001b[0;36mModel.fit\u001b[1;34m(self, x, y, batch_size, epochs, verbose, callbacks, validation_split, validation_data, shuffle, class_weight, sample_weight, initial_epoch, steps_per_epoch, validation_steps, validation_batch_size, validation_freq, max_queue_size, workers, use_multiprocessing)\u001b[0m\n\u001b[0;32m   1177\u001b[0m \u001b[38;5;28;01mwith\u001b[39;00m tf\u001b[38;5;241m.\u001b[39mprofiler\u001b[38;5;241m.\u001b[39mexperimental\u001b[38;5;241m.\u001b[39mTrace(\n\u001b[0;32m   1178\u001b[0m     \u001b[38;5;124m'\u001b[39m\u001b[38;5;124mtrain\u001b[39m\u001b[38;5;124m'\u001b[39m,\n\u001b[0;32m   1179\u001b[0m     epoch_num\u001b[38;5;241m=\u001b[39mepoch,\n\u001b[0;32m   1180\u001b[0m     step_num\u001b[38;5;241m=\u001b[39mstep,\n\u001b[0;32m   1181\u001b[0m     batch_size\u001b[38;5;241m=\u001b[39mbatch_size,\n\u001b[0;32m   1182\u001b[0m     _r\u001b[38;5;241m=\u001b[39m\u001b[38;5;241m1\u001b[39m):\n\u001b[0;32m   1183\u001b[0m   callbacks\u001b[38;5;241m.\u001b[39mon_train_batch_begin(step)\n\u001b[1;32m-> 1184\u001b[0m   tmp_logs \u001b[38;5;241m=\u001b[39m \u001b[38;5;28;43mself\u001b[39;49m\u001b[38;5;241;43m.\u001b[39;49m\u001b[43mtrain_function\u001b[49m\u001b[43m(\u001b[49m\u001b[43miterator\u001b[49m\u001b[43m)\u001b[49m\n\u001b[0;32m   1185\u001b[0m   \u001b[38;5;28;01mif\u001b[39;00m data_handler\u001b[38;5;241m.\u001b[39mshould_sync:\n\u001b[0;32m   1186\u001b[0m     context\u001b[38;5;241m.\u001b[39masync_wait()\n",
      "File \u001b[1;32m~\\anaconda3\\envs\\obspy_python38\\lib\\site-packages\\tensorflow\\python\\eager\\def_function.py:885\u001b[0m, in \u001b[0;36mFunction.__call__\u001b[1;34m(self, *args, **kwds)\u001b[0m\n\u001b[0;32m    882\u001b[0m compiler \u001b[38;5;241m=\u001b[39m \u001b[38;5;124m\"\u001b[39m\u001b[38;5;124mxla\u001b[39m\u001b[38;5;124m\"\u001b[39m \u001b[38;5;28;01mif\u001b[39;00m \u001b[38;5;28mself\u001b[39m\u001b[38;5;241m.\u001b[39m_jit_compile \u001b[38;5;28;01melse\u001b[39;00m \u001b[38;5;124m\"\u001b[39m\u001b[38;5;124mnonXla\u001b[39m\u001b[38;5;124m\"\u001b[39m\n\u001b[0;32m    884\u001b[0m \u001b[38;5;28;01mwith\u001b[39;00m OptionalXlaContext(\u001b[38;5;28mself\u001b[39m\u001b[38;5;241m.\u001b[39m_jit_compile):\n\u001b[1;32m--> 885\u001b[0m   result \u001b[38;5;241m=\u001b[39m \u001b[38;5;28;43mself\u001b[39;49m\u001b[38;5;241;43m.\u001b[39;49m\u001b[43m_call\u001b[49m\u001b[43m(\u001b[49m\u001b[38;5;241;43m*\u001b[39;49m\u001b[43margs\u001b[49m\u001b[43m,\u001b[49m\u001b[43m \u001b[49m\u001b[38;5;241;43m*\u001b[39;49m\u001b[38;5;241;43m*\u001b[39;49m\u001b[43mkwds\u001b[49m\u001b[43m)\u001b[49m\n\u001b[0;32m    887\u001b[0m new_tracing_count \u001b[38;5;241m=\u001b[39m \u001b[38;5;28mself\u001b[39m\u001b[38;5;241m.\u001b[39mexperimental_get_tracing_count()\n\u001b[0;32m    888\u001b[0m without_tracing \u001b[38;5;241m=\u001b[39m (tracing_count \u001b[38;5;241m==\u001b[39m new_tracing_count)\n",
      "File \u001b[1;32m~\\anaconda3\\envs\\obspy_python38\\lib\\site-packages\\tensorflow\\python\\eager\\def_function.py:917\u001b[0m, in \u001b[0;36mFunction._call\u001b[1;34m(self, *args, **kwds)\u001b[0m\n\u001b[0;32m    914\u001b[0m   \u001b[38;5;28mself\u001b[39m\u001b[38;5;241m.\u001b[39m_lock\u001b[38;5;241m.\u001b[39mrelease()\n\u001b[0;32m    915\u001b[0m   \u001b[38;5;66;03m# In this case we have created variables on the first call, so we run the\u001b[39;00m\n\u001b[0;32m    916\u001b[0m   \u001b[38;5;66;03m# defunned version which is guaranteed to never create variables.\u001b[39;00m\n\u001b[1;32m--> 917\u001b[0m   \u001b[38;5;28;01mreturn\u001b[39;00m \u001b[38;5;28;43mself\u001b[39;49m\u001b[38;5;241;43m.\u001b[39;49m\u001b[43m_stateless_fn\u001b[49m\u001b[43m(\u001b[49m\u001b[38;5;241;43m*\u001b[39;49m\u001b[43margs\u001b[49m\u001b[43m,\u001b[49m\u001b[43m \u001b[49m\u001b[38;5;241;43m*\u001b[39;49m\u001b[38;5;241;43m*\u001b[39;49m\u001b[43mkwds\u001b[49m\u001b[43m)\u001b[49m  \u001b[38;5;66;03m# pylint: disable=not-callable\u001b[39;00m\n\u001b[0;32m    918\u001b[0m \u001b[38;5;28;01melif\u001b[39;00m \u001b[38;5;28mself\u001b[39m\u001b[38;5;241m.\u001b[39m_stateful_fn \u001b[38;5;129;01mis\u001b[39;00m \u001b[38;5;129;01mnot\u001b[39;00m \u001b[38;5;28;01mNone\u001b[39;00m:\n\u001b[0;32m    919\u001b[0m   \u001b[38;5;66;03m# Release the lock early so that multiple threads can perform the call\u001b[39;00m\n\u001b[0;32m    920\u001b[0m   \u001b[38;5;66;03m# in parallel.\u001b[39;00m\n\u001b[0;32m    921\u001b[0m   \u001b[38;5;28mself\u001b[39m\u001b[38;5;241m.\u001b[39m_lock\u001b[38;5;241m.\u001b[39mrelease()\n",
      "File \u001b[1;32m~\\anaconda3\\envs\\obspy_python38\\lib\\site-packages\\tensorflow\\python\\eager\\function.py:3039\u001b[0m, in \u001b[0;36mFunction.__call__\u001b[1;34m(self, *args, **kwargs)\u001b[0m\n\u001b[0;32m   3036\u001b[0m \u001b[38;5;28;01mwith\u001b[39;00m \u001b[38;5;28mself\u001b[39m\u001b[38;5;241m.\u001b[39m_lock:\n\u001b[0;32m   3037\u001b[0m   (graph_function,\n\u001b[0;32m   3038\u001b[0m    filtered_flat_args) \u001b[38;5;241m=\u001b[39m \u001b[38;5;28mself\u001b[39m\u001b[38;5;241m.\u001b[39m_maybe_define_function(args, kwargs)\n\u001b[1;32m-> 3039\u001b[0m \u001b[38;5;28;01mreturn\u001b[39;00m \u001b[43mgraph_function\u001b[49m\u001b[38;5;241;43m.\u001b[39;49m\u001b[43m_call_flat\u001b[49m\u001b[43m(\u001b[49m\n\u001b[0;32m   3040\u001b[0m \u001b[43m    \u001b[49m\u001b[43mfiltered_flat_args\u001b[49m\u001b[43m,\u001b[49m\u001b[43m \u001b[49m\u001b[43mcaptured_inputs\u001b[49m\u001b[38;5;241;43m=\u001b[39;49m\u001b[43mgraph_function\u001b[49m\u001b[38;5;241;43m.\u001b[39;49m\u001b[43mcaptured_inputs\u001b[49m\u001b[43m)\u001b[49m\n",
      "File \u001b[1;32m~\\anaconda3\\envs\\obspy_python38\\lib\\site-packages\\tensorflow\\python\\eager\\function.py:1963\u001b[0m, in \u001b[0;36mConcreteFunction._call_flat\u001b[1;34m(self, args, captured_inputs, cancellation_manager)\u001b[0m\n\u001b[0;32m   1959\u001b[0m possible_gradient_type \u001b[38;5;241m=\u001b[39m gradients_util\u001b[38;5;241m.\u001b[39mPossibleTapeGradientTypes(args)\n\u001b[0;32m   1960\u001b[0m \u001b[38;5;28;01mif\u001b[39;00m (possible_gradient_type \u001b[38;5;241m==\u001b[39m gradients_util\u001b[38;5;241m.\u001b[39mPOSSIBLE_GRADIENT_TYPES_NONE\n\u001b[0;32m   1961\u001b[0m     \u001b[38;5;129;01mand\u001b[39;00m executing_eagerly):\n\u001b[0;32m   1962\u001b[0m   \u001b[38;5;66;03m# No tape is watching; skip to running the function.\u001b[39;00m\n\u001b[1;32m-> 1963\u001b[0m   \u001b[38;5;28;01mreturn\u001b[39;00m \u001b[38;5;28mself\u001b[39m\u001b[38;5;241m.\u001b[39m_build_call_outputs(\u001b[38;5;28;43mself\u001b[39;49m\u001b[38;5;241;43m.\u001b[39;49m\u001b[43m_inference_function\u001b[49m\u001b[38;5;241;43m.\u001b[39;49m\u001b[43mcall\u001b[49m\u001b[43m(\u001b[49m\n\u001b[0;32m   1964\u001b[0m \u001b[43m      \u001b[49m\u001b[43mctx\u001b[49m\u001b[43m,\u001b[49m\u001b[43m \u001b[49m\u001b[43margs\u001b[49m\u001b[43m,\u001b[49m\u001b[43m \u001b[49m\u001b[43mcancellation_manager\u001b[49m\u001b[38;5;241;43m=\u001b[39;49m\u001b[43mcancellation_manager\u001b[49m\u001b[43m)\u001b[49m)\n\u001b[0;32m   1965\u001b[0m forward_backward \u001b[38;5;241m=\u001b[39m \u001b[38;5;28mself\u001b[39m\u001b[38;5;241m.\u001b[39m_select_forward_and_backward_functions(\n\u001b[0;32m   1966\u001b[0m     args,\n\u001b[0;32m   1967\u001b[0m     possible_gradient_type,\n\u001b[0;32m   1968\u001b[0m     executing_eagerly)\n\u001b[0;32m   1969\u001b[0m forward_function, args_with_tangents \u001b[38;5;241m=\u001b[39m forward_backward\u001b[38;5;241m.\u001b[39mforward()\n",
      "File \u001b[1;32m~\\anaconda3\\envs\\obspy_python38\\lib\\site-packages\\tensorflow\\python\\eager\\function.py:591\u001b[0m, in \u001b[0;36m_EagerDefinedFunction.call\u001b[1;34m(self, ctx, args, cancellation_manager)\u001b[0m\n\u001b[0;32m    589\u001b[0m \u001b[38;5;28;01mwith\u001b[39;00m _InterpolateFunctionError(\u001b[38;5;28mself\u001b[39m):\n\u001b[0;32m    590\u001b[0m   \u001b[38;5;28;01mif\u001b[39;00m cancellation_manager \u001b[38;5;129;01mis\u001b[39;00m \u001b[38;5;28;01mNone\u001b[39;00m:\n\u001b[1;32m--> 591\u001b[0m     outputs \u001b[38;5;241m=\u001b[39m \u001b[43mexecute\u001b[49m\u001b[38;5;241;43m.\u001b[39;49m\u001b[43mexecute\u001b[49m\u001b[43m(\u001b[49m\n\u001b[0;32m    592\u001b[0m \u001b[43m        \u001b[49m\u001b[38;5;28;43mstr\u001b[39;49m\u001b[43m(\u001b[49m\u001b[38;5;28;43mself\u001b[39;49m\u001b[38;5;241;43m.\u001b[39;49m\u001b[43msignature\u001b[49m\u001b[38;5;241;43m.\u001b[39;49m\u001b[43mname\u001b[49m\u001b[43m)\u001b[49m\u001b[43m,\u001b[49m\n\u001b[0;32m    593\u001b[0m \u001b[43m        \u001b[49m\u001b[43mnum_outputs\u001b[49m\u001b[38;5;241;43m=\u001b[39;49m\u001b[38;5;28;43mself\u001b[39;49m\u001b[38;5;241;43m.\u001b[39;49m\u001b[43m_num_outputs\u001b[49m\u001b[43m,\u001b[49m\n\u001b[0;32m    594\u001b[0m \u001b[43m        \u001b[49m\u001b[43minputs\u001b[49m\u001b[38;5;241;43m=\u001b[39;49m\u001b[43margs\u001b[49m\u001b[43m,\u001b[49m\n\u001b[0;32m    595\u001b[0m \u001b[43m        \u001b[49m\u001b[43mattrs\u001b[49m\u001b[38;5;241;43m=\u001b[39;49m\u001b[43mattrs\u001b[49m\u001b[43m,\u001b[49m\n\u001b[0;32m    596\u001b[0m \u001b[43m        \u001b[49m\u001b[43mctx\u001b[49m\u001b[38;5;241;43m=\u001b[39;49m\u001b[43mctx\u001b[49m\u001b[43m)\u001b[49m\n\u001b[0;32m    597\u001b[0m   \u001b[38;5;28;01melse\u001b[39;00m:\n\u001b[0;32m    598\u001b[0m     outputs \u001b[38;5;241m=\u001b[39m execute\u001b[38;5;241m.\u001b[39mexecute_with_cancellation(\n\u001b[0;32m    599\u001b[0m         \u001b[38;5;28mstr\u001b[39m(\u001b[38;5;28mself\u001b[39m\u001b[38;5;241m.\u001b[39msignature\u001b[38;5;241m.\u001b[39mname),\n\u001b[0;32m    600\u001b[0m         num_outputs\u001b[38;5;241m=\u001b[39m\u001b[38;5;28mself\u001b[39m\u001b[38;5;241m.\u001b[39m_num_outputs,\n\u001b[1;32m   (...)\u001b[0m\n\u001b[0;32m    603\u001b[0m         ctx\u001b[38;5;241m=\u001b[39mctx,\n\u001b[0;32m    604\u001b[0m         cancellation_manager\u001b[38;5;241m=\u001b[39mcancellation_manager)\n",
      "File \u001b[1;32m~\\anaconda3\\envs\\obspy_python38\\lib\\site-packages\\tensorflow\\python\\eager\\execute.py:59\u001b[0m, in \u001b[0;36mquick_execute\u001b[1;34m(op_name, num_outputs, inputs, attrs, ctx, name)\u001b[0m\n\u001b[0;32m     57\u001b[0m \u001b[38;5;28;01mtry\u001b[39;00m:\n\u001b[0;32m     58\u001b[0m   ctx\u001b[38;5;241m.\u001b[39mensure_initialized()\n\u001b[1;32m---> 59\u001b[0m   tensors \u001b[38;5;241m=\u001b[39m \u001b[43mpywrap_tfe\u001b[49m\u001b[38;5;241;43m.\u001b[39;49m\u001b[43mTFE_Py_Execute\u001b[49m\u001b[43m(\u001b[49m\u001b[43mctx\u001b[49m\u001b[38;5;241;43m.\u001b[39;49m\u001b[43m_handle\u001b[49m\u001b[43m,\u001b[49m\u001b[43m \u001b[49m\u001b[43mdevice_name\u001b[49m\u001b[43m,\u001b[49m\u001b[43m \u001b[49m\u001b[43mop_name\u001b[49m\u001b[43m,\u001b[49m\n\u001b[0;32m     60\u001b[0m \u001b[43m                                      \u001b[49m\u001b[43minputs\u001b[49m\u001b[43m,\u001b[49m\u001b[43m \u001b[49m\u001b[43mattrs\u001b[49m\u001b[43m,\u001b[49m\u001b[43m \u001b[49m\u001b[43mnum_outputs\u001b[49m\u001b[43m)\u001b[49m\n\u001b[0;32m     61\u001b[0m \u001b[38;5;28;01mexcept\u001b[39;00m core\u001b[38;5;241m.\u001b[39m_NotOkStatusException \u001b[38;5;28;01mas\u001b[39;00m e:\n\u001b[0;32m     62\u001b[0m   \u001b[38;5;28;01mif\u001b[39;00m name \u001b[38;5;129;01mis\u001b[39;00m \u001b[38;5;129;01mnot\u001b[39;00m \u001b[38;5;28;01mNone\u001b[39;00m:\n",
      "\u001b[1;31mKeyboardInterrupt\u001b[0m: "
     ]
    }
   ],
   "source": [
    "#Create and fit LSTM model\n",
    "model = Sequential()\n",
    "model.add(LSTM(64, return_sequences=True, input_shape=(look_back, 1)))  # Experiment with units\n",
    "model.add(Dropout(0.2))\n",
    "model.add(BatchNormalization())\n",
    "\n",
    "model.add(LSTM(32))\n",
    "model.add(Dropout(0.2))\n",
    "model.add(BatchNormalization())\n",
    "\n",
    "model.add(Dense(horizon))\n",
    "model.compile(loss='mean_absolute_percentage_error', optimizer='adam')\n",
    "\n",
    "# Define the filepath where you want to save the model checkpoints\n",
    "checkpoint_path = \"my_model_checkpoints/model_2023_i6000_o1000_{epoch:02d}.hdf5\"\n",
    "\n",
    "# Create the ModelCheckpoint callback\n",
    "checkpoint_callback = ModelCheckpoint(\n",
    "    filepath=checkpoint_path,\n",
    "    save_weights_only=False,  # Save the entire model, not just weights\n",
    "    save_freq=\"epoch\",\n",
    "    )\n",
    "\n",
    "#num_windows = (len(train_data) - look_back + 1) // shift\n",
    "steps_per_epoch = 1000\n",
    "validation_steps= 5\n",
    "\n",
    "\n",
    "# Train the model using the generator\n",
    "model.fit(train_dataset,\n",
    "    epochs=100,\n",
    "    callbacks=[checkpoint_callback],\n",
    "    verbose= 1,\n",
    "    steps_per_epoch = steps_per_epoch,\n",
    "    validation_data=test_dataset,\n",
    "    validation_steps=validation_steps,\n",
    "          )"
   ]
  },
  {
   "cell_type": "code",
   "execution_count": null,
   "id": "f0308125-1691-4d37-88ab-52a076a8e80c",
   "metadata": {},
   "outputs": [],
   "source": [
    "\n",
    "#model = load_model('my_model_checkpoints/model_AP_MAY_72.hdf5')"
   ]
  },
  {
   "cell_type": "code",
   "execution_count": null,
   "id": "463f1138-f65e-4903-b461-6e5b2c9c8d80",
   "metadata": {},
   "outputs": [],
   "source": [
    "#look_back = 12000\n",
    "#test_predictions = generate_predictions(scaled_window, model, look_back, num_iterations=100)\n",
    "#test_predictions"
   ]
  },
  {
   "cell_type": "code",
   "execution_count": 22,
   "id": "25398c4f-df37-4e34-b0c8-c67707ef3845",
   "metadata": {},
   "outputs": [
    {
     "name": "stdout",
     "output_type": "stream",
     "text": [
      "5/5 [==============================] - 2s 307ms/step - loss: 0.0845\n",
      "Test Loss: 0.08450715988874435\n"
     ]
    }
   ],
   "source": [
    "loss = model.evaluate(test_dataset, steps=validation_steps, verbose=1)\n",
    "\n",
    "print(f'Test Loss: {loss}')"
   ]
  },
  {
   "cell_type": "code",
   "execution_count": 23,
   "id": "9f62ea3c-9683-4051-a7a4-6b98ce276e36",
   "metadata": {},
   "outputs": [
    {
     "name": "stdout",
     "output_type": "stream",
     "text": [
      "5/5 [==============================] - 2s 387ms/step - loss: 0.0845\n"
     ]
    },
    {
     "ename": "TypeError",
     "evalue": "cannot unpack non-iterable float object",
     "output_type": "error",
     "traceback": [
      "\u001b[1;31m---------------------------------------------------------------------------\u001b[0m",
      "\u001b[1;31mTypeError\u001b[0m                                 Traceback (most recent call last)",
      "Cell \u001b[1;32mIn[23], line 2\u001b[0m\n\u001b[0;32m      1\u001b[0m \u001b[38;5;66;03m# Evaluate the model on the test dataset\u001b[39;00m\n\u001b[1;32m----> 2\u001b[0m loss, mse \u001b[38;5;241m=\u001b[39m model\u001b[38;5;241m.\u001b[39mevaluate(test_dataset, steps\u001b[38;5;241m=\u001b[39mvalidation_steps, verbose\u001b[38;5;241m=\u001b[39m\u001b[38;5;241m1\u001b[39m)\n\u001b[0;32m      4\u001b[0m \u001b[38;5;28mprint\u001b[39m(\u001b[38;5;124mf\u001b[39m\u001b[38;5;124m'\u001b[39m\u001b[38;5;124mTest Loss (MAPE): \u001b[39m\u001b[38;5;132;01m{\u001b[39;00mloss\u001b[38;5;132;01m}\u001b[39;00m\u001b[38;5;124m'\u001b[39m)\n\u001b[0;32m      5\u001b[0m \u001b[38;5;28mprint\u001b[39m(\u001b[38;5;124mf\u001b[39m\u001b[38;5;124m'\u001b[39m\u001b[38;5;124mTest MSE: \u001b[39m\u001b[38;5;132;01m{\u001b[39;00mmse\u001b[38;5;132;01m}\u001b[39;00m\u001b[38;5;124m'\u001b[39m)\n",
      "\u001b[1;31mTypeError\u001b[0m: cannot unpack non-iterable float object"
     ]
    }
   ],
   "source": [
    "# Evaluate the model on the test dataset\n",
    "loss, mse = model.evaluate(test_dataset, steps=validation_steps, verbose=1)\n",
    "\n",
    "print(f'Test Loss (MAPE): {loss}')\n",
    "print(f'Test MSE: {mse}')"
   ]
  },
  {
   "cell_type": "markdown",
   "id": "055c0eb2-def2-4204-b23c-af24fc71b6eb",
   "metadata": {},
   "source": [
    "look_back = 12000\n",
    "horizon = 20\n",
    "predictions = []\n",
    "window = test_data[0:12000]\n",
    "scaled_window = scale_data(window, scaler)\n",
    "# Ensure scaled_window is correctly shaped\n",
    "new_window = scaled_window.reshape(1, look_back, 1)\n",
    "window = test_data[0:12000]\n",
    "\n",
    "for i in range(horizon):\n",
    "    # Predict the next value\n",
    "    predicted_value = model.predict(new_window, verbose=1)\n",
    "    predictions.append(predicted_value[0])\n",
    "    \n",
    "    # Update the window with the new prediction\n",
    "    new_window = np.roll(new_window, -1, axis=1)\n",
    "    new_window[0, -1, 0] = predicted_value\n",
    "\n",
    "# Convert predictions to a numpy array for further processing\n",
    "predictions = inverse_scaler(np.array(predictions), scaler)\n",
    "print(predictions)"
   ]
  },
  {
   "cell_type": "code",
   "execution_count": 28,
   "id": "8782ddd7-a4eb-4198-83dd-78ca8fd46d36",
   "metadata": {},
   "outputs": [],
   "source": [
    "validation = test_dataset.take(10)"
   ]
  },
  {
   "cell_type": "code",
   "execution_count": 29,
   "id": "04040449-99a1-4247-9ac4-3c409aeac714",
   "metadata": {},
   "outputs": [
    {
     "name": "stdout",
     "output_type": "stream",
     "text": [
      "10/10 [==============================] - 11s 926ms/step\n"
     ]
    }
   ],
   "source": [
    "\n",
    "validation_pred = model.predict(validation, verbose = 1)"
   ]
  },
  {
   "cell_type": "code",
   "execution_count": 30,
   "id": "e64b0c4b-b0de-46f7-ac8c-a8797f7369b9",
   "metadata": {},
   "outputs": [
    {
     "data": {
      "text/plain": [
       "640"
      ]
     },
     "execution_count": 30,
     "metadata": {},
     "output_type": "execute_result"
    }
   ],
   "source": [
    "len(validation_pred)"
   ]
  },
  {
   "cell_type": "code",
   "execution_count": 35,
   "id": "5422e0f3-21d8-476e-b955-f233e7965c84",
   "metadata": {},
   "outputs": [
    {
     "data": {
      "text/plain": [
       "array([0.501461  , 0.50077707, 0.50075084, 0.50103045, 0.5010132 ,\n",
       "       0.501709  , 0.5010698 , 0.5002271 , 0.50132614, 0.5004081 ,\n",
       "       0.50070417, 0.4990963 , 0.50067997, 0.50131047, 0.50183547,\n",
       "       0.5025434 , 0.5005528 , 0.5003466 , 0.5014696 , 0.5012854 ,\n",
       "       0.50144637, 0.5014615 , 0.5001281 , 0.5015534 , 0.50203156,\n",
       "       0.5014148 , 0.5017843 , 0.50091773, 0.50199634, 0.5013157 ,\n",
       "       0.50166756, 0.5008272 , 0.50092924, 0.49982905, 0.5013751 ,\n",
       "       0.50108385, 0.50121903, 0.5005226 , 0.5012405 , 0.5012057 ,\n",
       "       0.5019589 , 0.5017139 , 0.5012597 , 0.50091517, 0.5010947 ,\n",
       "       0.50186056, 0.50183284, 0.5022435 , 0.5012751 , 0.5001156 ,\n",
       "       0.5004092 , 0.5004655 , 0.50079036, 0.5004543 , 0.501376  ,\n",
       "       0.5005864 , 0.50046474, 0.500845  , 0.50040275, 0.50046104,\n",
       "       0.5001175 , 0.5011276 , 0.5017108 , 0.50067806, 0.5016979 ,\n",
       "       0.5005908 , 0.50145113, 0.5018632 , 0.50094914, 0.5014266 ,\n",
       "       0.5014423 , 0.50083697, 0.5018164 , 0.50139403, 0.5008082 ,\n",
       "       0.50131094, 0.5007848 , 0.5014691 , 0.5002667 , 0.5013717 ,\n",
       "       0.5009878 , 0.5005672 , 0.5015379 , 0.5006243 , 0.5007944 ,\n",
       "       0.5010007 , 0.501237  , 0.50147164, 0.50158507, 0.49991262,\n",
       "       0.500741  , 0.5005755 , 0.5005107 , 0.5016042 , 0.5013834 ,\n",
       "       0.5007669 , 0.5010557 , 0.5009352 , 0.5011962 , 0.50248957,\n",
       "       0.5008746 , 0.50044495, 0.5014274 , 0.5011525 , 0.5012096 ,\n",
       "       0.5004966 , 0.5010763 , 0.5015711 , 0.50189006, 0.50036633,\n",
       "       0.5017914 , 0.50145066, 0.5014298 , 0.501034  , 0.5015807 ,\n",
       "       0.5004996 , 0.50139767, 0.5019418 , 0.50063854, 0.50152487,\n",
       "       0.50075275, 0.5019582 , 0.5012062 , 0.5012375 , 0.5012645 ,\n",
       "       0.500626  , 0.500788  , 0.50200015, 0.50143033, 0.5011145 ,\n",
       "       0.5004937 , 0.5013069 , 0.5014187 , 0.5004766 , 0.5014243 ,\n",
       "       0.501266  , 0.50153637, 0.5014265 , 0.50148726, 0.5019807 ,\n",
       "       0.5023139 , 0.50090504, 0.5009276 , 0.500808  , 0.5017069 ,\n",
       "       0.50208247, 0.5004476 , 0.50068516, 0.5013602 , 0.50145584,\n",
       "       0.50122213, 0.5014676 , 0.5008414 , 0.5012524 , 0.5011511 ,\n",
       "       0.50172913, 0.5009967 , 0.501201  , 0.5005705 , 0.50182766,\n",
       "       0.50144786, 0.5019912 , 0.5021944 , 0.50184655, 0.50104517,\n",
       "       0.5012771 , 0.5014379 , 0.5013028 , 0.5012495 , 0.5009652 ,\n",
       "       0.50091493, 0.50095165, 0.50087833, 0.5012678 , 0.50136393,\n",
       "       0.50097275, 0.5018991 , 0.50130904, 0.5007764 , 0.50122476,\n",
       "       0.50147253, 0.5005523 , 0.5009078 , 0.50109357, 0.5014668 ,\n",
       "       0.5012911 , 0.5005449 , 0.50161004, 0.50083226, 0.5012094 ,\n",
       "       0.50123775, 0.50119096, 0.50110537, 0.50159323, 0.5007045 ,\n",
       "       0.50115347, 0.5009545 , 0.50023973, 0.5016622 , 0.5011128 ,\n",
       "       0.50011945, 0.5013348 , 0.5020039 , 0.50141126, 0.5016177 ,\n",
       "       0.5020256 , 0.5012278 , 0.5008658 , 0.50050676, 0.50100595,\n",
       "       0.50046283, 0.5007761 , 0.5012932 , 0.5012901 , 0.501826  ,\n",
       "       0.5015943 , 0.50078326, 0.50171447, 0.50173795, 0.5013398 ,\n",
       "       0.500735  , 0.50137246, 0.50251764, 0.50065935, 0.50099826,\n",
       "       0.5007351 , 0.5014036 , 0.50117606, 0.50207466, 0.5002385 ,\n",
       "       0.5010118 , 0.50147545, 0.5000346 , 0.5011169 , 0.5009517 ,\n",
       "       0.50129336, 0.50154483, 0.50122505, 0.5017883 , 0.50055826,\n",
       "       0.50130767, 0.5007541 , 0.49985826, 0.501378  , 0.5015195 ,\n",
       "       0.50085497, 0.5010387 , 0.50088555, 0.50073165, 0.50130635,\n",
       "       0.5010166 , 0.5001366 , 0.501327  , 0.50208205, 0.5009723 ,\n",
       "       0.5010015 , 0.5013385 , 0.50042605, 0.5008414 , 0.50160617,\n",
       "       0.5014013 , 0.49992406, 0.5000626 , 0.5004022 , 0.50100994,\n",
       "       0.5008685 , 0.50126797, 0.5014119 , 0.5005261 , 0.5021331 ,\n",
       "       0.50091463, 0.5018751 , 0.50092876, 0.50170887, 0.5014324 ,\n",
       "       0.50154155, 0.50152797, 0.50143373, 0.502342  , 0.50090694,\n",
       "       0.5010029 , 0.5003779 , 0.5018034 , 0.50131404, 0.49992466,\n",
       "       0.50105214, 0.50149584, 0.5014496 , 0.50134754, 0.5020258 ,\n",
       "       0.50144595, 0.50137734, 0.50095516, 0.5012573 , 0.5015828 ,\n",
       "       0.5004966 , 0.5013893 , 0.50038725, 0.5013604 , 0.5002717 ,\n",
       "       0.503114  , 0.4998457 , 0.50039804, 0.5023849 , 0.50128984,\n",
       "       0.5002594 , 0.50078726, 0.50123304, 0.50103843, 0.5018561 ,\n",
       "       0.500612  , 0.5009825 , 0.50016946, 0.50066656, 0.49997526,\n",
       "       0.5006255 , 0.50130975, 0.5007387 , 0.5009225 , 0.5013133 ,\n",
       "       0.5013772 , 0.5007772 , 0.5007648 , 0.50110346, 0.5018359 ,\n",
       "       0.5018644 , 0.50160974, 0.50130194, 0.5008976 , 0.50068164,\n",
       "       0.5012301 , 0.50213814, 0.5014241 , 0.501344  , 0.50139135,\n",
       "       0.5000787 , 0.5018016 , 0.50100183, 0.500233  , 0.50102484,\n",
       "       0.5016386 , 0.50090206, 0.5009228 , 0.50048494, 0.5009009 ,\n",
       "       0.5012702 , 0.5006633 , 0.5012013 , 0.50124663, 0.5012021 ,\n",
       "       0.5016708 , 0.50087374, 0.50047404, 0.5007432 , 0.50205684,\n",
       "       0.5008232 , 0.50125384, 0.50064594, 0.5015006 , 0.50219977,\n",
       "       0.50117004, 0.5013103 , 0.5017914 , 0.5007304 , 0.5004117 ,\n",
       "       0.5013102 , 0.50119174, 0.5010271 , 0.50132906, 0.50094825,\n",
       "       0.5013169 , 0.50137717, 0.50073826, 0.5013523 , 0.5010531 ,\n",
       "       0.50141704, 0.50174797, 0.5021836 , 0.50074357, 0.5015487 ,\n",
       "       0.5015055 , 0.50087774, 0.5014938 , 0.5003855 , 0.5012276 ,\n",
       "       0.50140536, 0.5018132 , 0.49958766, 0.50088257, 0.50146866,\n",
       "       0.50107443, 0.5022313 , 0.5006377 , 0.5012142 , 0.50137126,\n",
       "       0.5008757 , 0.50075495, 0.5013318 , 0.5009158 , 0.50020736,\n",
       "       0.50148284, 0.5012716 , 0.5009121 , 0.5013354 , 0.501545  ,\n",
       "       0.500606  , 0.5012476 , 0.50049025, 0.50072694, 0.5010177 ,\n",
       "       0.5014525 , 0.5003461 , 0.5012028 , 0.5020437 , 0.5014531 ,\n",
       "       0.5013096 , 0.50131553, 0.50116044, 0.50093627, 0.50133276,\n",
       "       0.5009741 , 0.50122416, 0.5016235 , 0.50081396, 0.5010264 ,\n",
       "       0.5019766 , 0.5011627 , 0.5008395 , 0.50183576, 0.5013506 ,\n",
       "       0.50033367, 0.5008039 , 0.50116324, 0.502372  , 0.5019895 ,\n",
       "       0.50095093, 0.5011277 , 0.50122994, 0.50128794, 0.5008051 ,\n",
       "       0.5012825 , 0.50160146, 0.50142366, 0.5009132 , 0.501477  ,\n",
       "       0.5009833 , 0.5009531 , 0.50127137, 0.50095063, 0.5013021 ,\n",
       "       0.5010874 , 0.5011472 , 0.5011435 , 0.5011088 , 0.50127304,\n",
       "       0.5016689 , 0.5014169 , 0.5019739 , 0.5017497 , 0.50100887,\n",
       "       0.50124305, 0.5009449 , 0.50126183, 0.5015054 , 0.5013269 ,\n",
       "       0.5009352 , 0.5013407 , 0.50155926, 0.50162363, 0.5011485 ,\n",
       "       0.50048125, 0.5015976 , 0.5009237 , 0.50091183, 0.50053525,\n",
       "       0.50105554, 0.5010154 , 0.5009178 , 0.5011394 , 0.500797  ,\n",
       "       0.50239164, 0.50066006, 0.50132227, 0.49951243, 0.5012098 ,\n",
       "       0.5020952 , 0.501644  , 0.5017326 , 0.5006547 , 0.5017997 ,\n",
       "       0.50080967, 0.5014132 , 0.5006366 , 0.5019074 , 0.50129914,\n",
       "       0.50131655, 0.501494  , 0.5009556 , 0.50148857, 0.5009595 ,\n",
       "       0.50176656, 0.50106496, 0.50140536, 0.50068885, 0.5000498 ,\n",
       "       0.50151324, 0.500435  , 0.5015657 , 0.5006875 , 0.50125605,\n",
       "       0.50128376, 0.5006135 , 0.5014427 , 0.5011728 , 0.50038195,\n",
       "       0.50135416, 0.50193644, 0.5012849 , 0.50235075, 0.50209033,\n",
       "       0.5008173 , 0.50088346, 0.50136536, 0.50123435, 0.5013214 ,\n",
       "       0.5019016 , 0.5014299 , 0.50159633, 0.50078267, 0.50047797,\n",
       "       0.50072587, 0.50139606, 0.49992594, 0.501524  , 0.50177056,\n",
       "       0.50166446, 0.50197494, 0.5017241 , 0.50099283, 0.50149363,\n",
       "       0.50141126, 0.5016582 , 0.5010335 , 0.50156856, 0.5007735 ,\n",
       "       0.5020289 , 0.501619  , 0.50165147, 0.50177366, 0.5013357 ,\n",
       "       0.501989  , 0.49961534, 0.50163513, 0.5011203 , 0.501741  ,\n",
       "       0.5002382 , 0.50018716, 0.5004216 , 0.5012919 , 0.50090784,\n",
       "       0.50107086, 0.50162405, 0.5015232 , 0.50057745, 0.5011265 ,\n",
       "       0.5009405 , 0.5004982 , 0.5008138 , 0.50128126, 0.50150967,\n",
       "       0.5013472 , 0.501321  , 0.50268525, 0.5006747 , 0.50145644,\n",
       "       0.50201064, 0.5004888 , 0.5014725 , 0.5012193 , 0.5012269 ,\n",
       "       0.50063103, 0.5009421 , 0.5012691 , 0.5011944 , 0.50134593,\n",
       "       0.5010664 , 0.5003443 , 0.50126994, 0.5010738 , 0.5020362 ,\n",
       "       0.5012715 , 0.50015104, 0.5006691 , 0.501886  , 0.50090057,\n",
       "       0.5008496 , 0.50154436, 0.50105536, 0.50163937, 0.5004842 ,\n",
       "       0.50167954, 0.5011368 , 0.5005678 , 0.5015452 , 0.5020005 ,\n",
       "       0.50151145, 0.5005765 , 0.50229025, 0.50123096, 0.5011871 ,\n",
       "       0.50110614, 0.5007581 , 0.5029486 , 0.50171775, 0.5008403 ,\n",
       "       0.50130683, 0.5017655 , 0.5002433 , 0.50105536, 0.50042886,\n",
       "       0.5009452 , 0.5016556 , 0.50206697, 0.501414  , 0.5014644 ,\n",
       "       0.50083935, 0.50143987, 0.50211686, 0.500625  , 0.5005298 ,\n",
       "       0.5019659 , 0.50094676, 0.5011465 , 0.50109935, 0.50120044,\n",
       "       0.50039625, 0.5009152 , 0.5004623 , 0.50050163, 0.50170535,\n",
       "       0.5001095 , 0.50166667, 0.5011759 , 0.50070196, 0.5015391 ,\n",
       "       0.5009148 , 0.5014003 , 0.5015079 , 0.50127083, 0.50108796,\n",
       "       0.50064695, 0.5013492 , 0.50122005, 0.50128293, 0.5009817 ,\n",
       "       0.50077975, 0.5026997 , 0.50065154, 0.5023042 , 0.50153583,\n",
       "       0.5008314 , 0.5011523 , 0.5012632 , 0.50081563, 0.5016329 ,\n",
       "       0.50119233, 0.5013599 , 0.5013677 , 0.50049555, 0.5013577 ,\n",
       "       0.5009008 , 0.5018095 , 0.5018241 , 0.5016048 , 0.5007684 ,\n",
       "       0.501171  , 0.50150156, 0.50148225, 0.5002831 , 0.5009965 ,\n",
       "       0.5013231 , 0.5013447 , 0.5014799 , 0.50123554, 0.50159466,\n",
       "       0.5017092 , 0.5014554 , 0.5004693 , 0.5007529 , 0.50118977,\n",
       "       0.5020253 , 0.5000553 , 0.50143385, 0.5013751 , 0.5014998 ,\n",
       "       0.5014249 , 0.50062543, 0.5018053 , 0.49976397, 0.50100446,\n",
       "       0.50142854, 0.5006109 , 0.5017067 , 0.50143135, 0.5011977 ,\n",
       "       0.5022714 , 0.50092876, 0.5022527 , 0.5014219 , 0.50101185,\n",
       "       0.5015187 , 0.5014671 , 0.501089  , 0.50132346, 0.501707  ,\n",
       "       0.50195515, 0.50162923, 0.5007768 , 0.5011704 , 0.5012305 ,\n",
       "       0.5008098 , 0.502314  , 0.5004108 , 0.50059444, 0.50192595,\n",
       "       0.5017178 , 0.5017129 , 0.50177705, 0.501207  , 0.5008864 ,\n",
       "       0.5009675 , 0.50287884, 0.5009272 , 0.5001545 , 0.5003436 ,\n",
       "       0.5011518 , 0.50164753, 0.50135034, 0.50066364, 0.5004521 ,\n",
       "       0.50106966, 0.50121963, 0.50041175, 0.5004599 , 0.5018098 ,\n",
       "       0.50070786, 0.5014701 , 0.50152475, 0.50080484, 0.50124145,\n",
       "       0.5012398 , 0.5019486 , 0.5004072 , 0.5001631 , 0.50045526,\n",
       "       0.5005284 , 0.50150824, 0.50132734, 0.5025494 , 0.50045216,\n",
       "       0.5012493 , 0.5006849 , 0.50080705, 0.50118506, 0.5016096 ,\n",
       "       0.5013389 , 0.50114316, 0.50123227, 0.50144196, 0.50160414,\n",
       "       0.50075406, 0.50071746, 0.5009172 , 0.50158614, 0.5001907 ,\n",
       "       0.5012929 , 0.5007086 , 0.5014353 , 0.5017797 , 0.5012847 ,\n",
       "       0.5014624 , 0.50122   , 0.5004886 , 0.50144345, 0.5008414 ,\n",
       "       0.5004398 , 0.5007747 , 0.50073254, 0.501534  , 0.5007224 ,\n",
       "       0.5025108 , 0.5006329 , 0.50104815, 0.501482  , 0.50098425,\n",
       "       0.5011409 , 0.50107396, 0.50118846, 0.50089794, 0.5000389 ,\n",
       "       0.50121725, 0.5009281 , 0.50108266, 0.50103027, 0.50182414,\n",
       "       0.50135994, 0.5009165 , 0.50106657, 0.50047517, 0.501197  ,\n",
       "       0.50044096, 0.5011669 , 0.5016182 , 0.501527  , 0.50138813,\n",
       "       0.50153023, 0.5020523 , 0.50167483, 0.5008989 , 0.50116074,\n",
       "       0.5017405 , 0.50016224, 0.50144136, 0.50133187, 0.5015248 ,\n",
       "       0.5016222 , 0.50092304, 0.50092673, 0.5014095 , 0.50093657,\n",
       "       0.5009009 , 0.5014553 , 0.49949998, 0.50215256, 0.50122213,\n",
       "       0.50048494, 0.50149107, 0.501509  , 0.5011325 , 0.5010737 ,\n",
       "       0.5008892 , 0.501407  , 0.50194633, 0.5007648 , 0.50141704,\n",
       "       0.50131136, 0.5009536 , 0.5013596 , 0.5007562 , 0.500407  ,\n",
       "       0.5017085 , 0.5013486 , 0.50077355, 0.50069284, 0.5013349 ,\n",
       "       0.5010241 , 0.50117296, 0.50062716, 0.50145644, 0.5013665 ,\n",
       "       0.50147927, 0.5010793 , 0.5015581 , 0.5015913 , 0.50123405,\n",
       "       0.50123584, 0.5013151 , 0.50117904, 0.5011059 , 0.5010791 ,\n",
       "       0.5010039 , 0.5017321 , 0.5017668 , 0.50050044, 0.50182843,\n",
       "       0.49986422, 0.5015758 , 0.4997381 , 0.5015212 , 0.5019655 ,\n",
       "       0.5011096 , 0.50158584, 0.50113934, 0.50117826, 0.5008596 ,\n",
       "       0.50238186, 0.5026278 , 0.5009857 , 0.50066656, 0.5016814 ,\n",
       "       0.5013937 , 0.50159836, 0.5019258 , 0.5014048 , 0.5016209 ,\n",
       "       0.5014403 , 0.50074625, 0.5014842 , 0.5009751 , 0.50070226,\n",
       "       0.5003296 , 0.50161695, 0.5013669 , 0.5018044 , 0.5014489 ,\n",
       "       0.50158143, 0.5016072 , 0.50072116, 0.50162125, 0.50148916,\n",
       "       0.50085044, 0.50114334, 0.50021285, 0.5008667 , 0.50285846,\n",
       "       0.501421  , 0.50167865, 0.5013119 , 0.50136197, 0.5015199 ,\n",
       "       0.50056213, 0.4995833 , 0.501406  , 0.5013577 , 0.50144863,\n",
       "       0.5018659 , 0.5018064 , 0.50158453, 0.50112015, 0.50153935,\n",
       "       0.5011021 , 0.50165457, 0.5018794 , 0.501071  , 0.5016395 ,\n",
       "       0.50113755, 0.50046176, 0.50163925, 0.5019022 , 0.5003825 ,\n",
       "       0.5009046 , 0.5012607 , 0.5012861 , 0.50025547, 0.5004465 ,\n",
       "       0.50102687, 0.50011224, 0.5015193 , 0.50221556, 0.5013562 ,\n",
       "       0.5006446 , 0.50040126, 0.50098056, 0.5009484 , 0.5008771 ,\n",
       "       0.5003978 , 0.5008286 , 0.50088686, 0.5013755 , 0.50106204,\n",
       "       0.5004927 , 0.50065124, 0.5017942 , 0.5013836 , 0.50120634,\n",
       "       0.50075793, 0.50183   , 0.5011677 , 0.50137126, 0.500866  ,\n",
       "       0.50016963, 0.5024438 , 0.50151753, 0.5010747 , 0.5014873 ,\n",
       "       0.50069207, 0.501868  , 0.5002451 , 0.5013826 , 0.50244606,\n",
       "       0.50107795, 0.5017097 , 0.500955  , 0.5015304 , 0.50137407,\n",
       "       0.50088227, 0.50089496, 0.5020158 , 0.50123477, 0.5009589 ,\n",
       "       0.50125456, 0.5008193 , 0.50185114, 0.50156695, 0.5013242 ,\n",
       "       0.5015522 , 0.50097007, 0.5010039 , 0.50124186, 0.5004236 ],\n",
       "      dtype=float32)"
      ]
     },
     "execution_count": 35,
     "metadata": {},
     "output_type": "execute_result"
    }
   ],
   "source": [
    "validation_pred[0]"
   ]
  },
  {
   "cell_type": "code",
   "execution_count": 36,
   "id": "6086dabd-2756-4699-a6fa-a2e950d39063",
   "metadata": {},
   "outputs": [
    {
     "data": {
      "text/plain": [
       "[<matplotlib.lines.Line2D at 0x217044f75b0>]"
      ]
     },
     "execution_count": 36,
     "metadata": {},
     "output_type": "execute_result"
    },
    {
     "data": {
      "image/png": "[encoded data removed]",
      "text/plain": [
       "<Figure size 640x480 with 1 Axes>"
      ]
     },
     "metadata": {},
     "output_type": "display_data"
    }
   ],
   "source": [
    "plt.plot(validation_pred[0])"
   ]
  },
  {
   "cell_type": "code",
   "execution_count": 51,
   "id": "4f8b6a43-1766-4e2a-97eb-4f512dfc9c56",
   "metadata": {},
   "outputs": [
    {
     "name": "stdout",
     "output_type": "stream",
     "text": [
      "1/1 [==============================] - 0s 277ms/step\n"
     ]
    }
   ],
   "source": [
    "testing2 = train_data[6000:12000]\n",
    "testing2 = np.reshape(testing, (1, len(testing2), 1))\n",
    "validation_pred2 = model.predict(testing, verbose = 1)"
   ]
  },
  {
   "cell_type": "code",
   "execution_count": 54,
   "id": "bc767ba7-5bfa-441e-b037-5c3e23410100",
   "metadata": {},
   "outputs": [
    {
     "data": {
      "text/plain": [
       "array([[0., 0., 0., 0., 0., 0., 0., 0., 0., 0., 0., 0., 0., 0., 0., 0.,\n",
       "        0., 0., 0., 0., 0., 0., 0., 0., 0., 0., 0., 0., 0., 0., 0., 0.,\n",
       "        0., 0., 0., 0., 0., 0., 0., 0., 0., 0., 0., 0., 0., 0., 0., 0.,\n",
       "        0., 0., 0., 0., 0., 0., 0., 0., 0., 0., 0., 0., 0., 0., 0., 0.,\n",
       "        0., 0., 0., 0., 0., 0., 0., 0., 0., 0., 0., 0., 0., 0., 0., 0.,\n",
       "        0., 0., 0., 0., 0., 0., 0., 0., 0., 0., 0., 0., 0., 0., 0., 0.,\n",
       "        0., 0., 0., 0., 0., 0., 0., 0., 0., 0., 0., 0., 0., 0., 0., 0.,\n",
       "        0., 0., 0., 0., 0., 0., 0., 0., 0., 0., 0., 0., 0., 0., 0., 0.,\n",
       "        0., 0., 0., 0., 0., 0., 0., 0., 0., 0., 0., 0., 0., 0., 0., 0.,\n",
       "        0., 0., 0., 0., 0., 0., 0., 0., 0., 0., 0., 0., 0., 0., 0., 0.,\n",
       "        0., 0., 0., 0., 0., 0., 0., 0., 0., 0., 0., 0., 0., 0., 0., 0.,\n",
       "        0., 0., 0., 0., 0., 0., 0., 0., 0., 0., 0., 0., 0., 0., 0., 0.,\n",
       "        0., 0., 0., 0., 0., 0., 0., 0., 0., 0., 0., 0., 0., 0., 0., 0.,\n",
       "        0., 0., 0., 0., 0., 0., 0., 0., 0., 0., 0., 0., 0., 0., 0., 0.,\n",
       "        0., 0., 0., 0., 0., 0., 0., 0., 0., 0., 0., 0., 0., 0., 0., 0.,\n",
       "        0., 0., 0., 0., 0., 0., 0., 0., 0., 0., 0., 0., 0., 0., 0., 0.,\n",
       "        0., 0., 0., 0., 0., 0., 0., 0., 0., 0., 0., 0., 0., 0., 0., 0.,\n",
       "        0., 0., 0., 0., 0., 0., 0., 0., 0., 0., 0., 0., 0., 0., 0., 0.,\n",
       "        0., 0., 0., 0., 0., 0., 0., 0., 0., 0., 0., 0., 0., 0., 0., 0.,\n",
       "        0., 0., 0., 0., 0., 0., 0., 0., 0., 0., 0., 0., 0., 0., 0., 0.,\n",
       "        0., 0., 0., 0., 0., 0., 0., 0., 0., 0., 0., 0., 0., 0., 0., 0.,\n",
       "        0., 0., 0., 0., 0., 0., 0., 0., 0., 0., 0., 0., 0., 0., 0., 0.,\n",
       "        0., 0., 0., 0., 0., 0., 0., 0., 0., 0., 0., 0., 0., 0., 0., 0.,\n",
       "        0., 0., 0., 0., 0., 0., 0., 0., 0., 0., 0., 0., 0., 0., 0., 0.,\n",
       "        0., 0., 0., 0., 0., 0., 0., 0., 0., 0., 0., 0., 0., 0., 0., 0.,\n",
       "        0., 0., 0., 0., 0., 0., 0., 0., 0., 0., 0., 0., 0., 0., 0., 0.,\n",
       "        0., 0., 0., 0., 0., 0., 0., 0., 0., 0., 0., 0., 0., 0., 0., 0.,\n",
       "        0., 0., 0., 0., 0., 0., 0., 0., 0., 0., 0., 0., 0., 0., 0., 0.,\n",
       "        0., 0., 0., 0., 0., 0., 0., 0., 0., 0., 0., 0., 0., 0., 0., 0.,\n",
       "        0., 0., 0., 0., 0., 0., 0., 0., 0., 0., 0., 0., 0., 0., 0., 0.,\n",
       "        0., 0., 0., 0., 0., 0., 0., 0., 0., 0., 0., 0., 0., 0., 0., 0.,\n",
       "        0., 0., 0., 0., 0., 0., 0., 0., 0., 0., 0., 0., 0., 0., 0., 0.,\n",
       "        0., 0., 0., 0., 0., 0., 0., 0., 0., 0., 0., 0., 0., 0., 0., 0.,\n",
       "        0., 0., 0., 0., 0., 0., 0., 0., 0., 0., 0., 0., 0., 0., 0., 0.,\n",
       "        0., 0., 0., 0., 0., 0., 0., 0., 0., 0., 0., 0., 0., 0., 0., 0.,\n",
       "        0., 0., 0., 0., 0., 0., 0., 0., 0., 0., 0., 0., 0., 0., 0., 0.,\n",
       "        0., 0., 0., 0., 0., 0., 0., 0., 0., 0., 0., 0., 0., 0., 0., 0.,\n",
       "        0., 0., 0., 0., 0., 0., 0., 0., 0., 0., 0., 0., 0., 0., 0., 0.,\n",
       "        0., 0., 0., 0., 0., 0., 0., 0., 0., 0., 0., 0., 0., 0., 0., 0.,\n",
       "        0., 0., 0., 0., 0., 0., 0., 0., 0., 0., 0., 0., 0., 0., 0., 0.,\n",
       "        0., 0., 0., 0., 0., 0., 0., 0., 0., 0., 0., 0., 0., 0., 0., 0.,\n",
       "        0., 0., 0., 0., 0., 0., 0., 0., 0., 0., 0., 0., 0., 0., 0., 0.,\n",
       "        0., 0., 0., 0., 0., 0., 0., 0., 0., 0., 0., 0., 0., 0., 0., 0.,\n",
       "        0., 0., 0., 0., 0., 0., 0., 0., 0., 0., 0., 0., 0., 0., 0., 0.,\n",
       "        0., 0., 0., 0., 0., 0., 0., 0., 0., 0., 0., 0., 0., 0., 0., 0.,\n",
       "        0., 0., 0., 0., 0., 0., 0., 0., 0., 0., 0., 0., 0., 0., 0., 0.,\n",
       "        0., 0., 0., 0., 0., 0., 0., 0., 0., 0., 0., 0., 0., 0., 0., 0.,\n",
       "        0., 0., 0., 0., 0., 0., 0., 0., 0., 0., 0., 0., 0., 0., 0., 0.,\n",
       "        0., 0., 0., 0., 0., 0., 0., 0., 0., 0., 0., 0., 0., 0., 0., 0.,\n",
       "        0., 0., 0., 0., 0., 0., 0., 0., 0., 0., 0., 0., 0., 0., 0., 0.,\n",
       "        0., 0., 0., 0., 0., 0., 0., 0., 0., 0., 0., 0., 0., 0., 0., 0.,\n",
       "        0., 0., 0., 0., 0., 0., 0., 0., 0., 0., 0., 0., 0., 0., 0., 0.,\n",
       "        0., 0., 0., 0., 0., 0., 0., 0., 0., 0., 0., 0., 0., 0., 0., 0.,\n",
       "        0., 0., 0., 0., 0., 0., 0., 0., 0., 0., 0., 0., 0., 0., 0., 0.,\n",
       "        0., 0., 0., 0., 0., 0., 0., 0., 0., 0., 0., 0., 0., 0., 0., 0.,\n",
       "        0., 0., 0., 0., 0., 0., 0., 0., 0., 0., 0., 0., 0., 0., 0., 0.,\n",
       "        0., 0., 0., 0., 0., 0., 0., 0., 0., 0., 0., 0., 0., 0., 0., 0.,\n",
       "        0., 0., 0., 0., 0., 0., 0., 0., 0., 0., 0., 0., 0., 0., 0., 0.,\n",
       "        0., 0., 0., 0., 0., 0., 0., 0., 0., 0., 0., 0., 0., 0., 0., 0.,\n",
       "        0., 0., 0., 0., 0., 0., 0., 0., 0., 0., 0., 0., 0., 0., 0., 0.,\n",
       "        0., 0., 0., 0., 0., 0., 0., 0., 0., 0., 0., 0., 0., 0., 0., 0.,\n",
       "        0., 0., 0., 0., 0., 0., 0., 0., 0., 0., 0., 0., 0., 0., 0., 0.,\n",
       "        0., 0., 0., 0., 0., 0., 0., 0.]], dtype=float32)"
      ]
     },
     "execution_count": 54,
     "metadata": {},
     "output_type": "execute_result"
    }
   ],
   "source": [
    "test = validation_pred2 -validation_pred\n",
    "test"
   ]
  },
  {
   "cell_type": "code",
   "execution_count": 53,
   "id": "31af9472-a574-4abd-b728-53c09aac54e4",
   "metadata": {},
   "outputs": [
    {
     "data": {
      "text/plain": [
       "[<matplotlib.lines.Line2D at 0x21707e17f70>]"
      ]
     },
     "execution_count": 53,
     "metadata": {},
     "output_type": "execute_result"
    },
    {
     "data": {
      "image/png": "[encoded data removed]",
      "text/plain": [
       "<Figure size 640x480 with 1 Axes>"
      ]
     },
     "metadata": {},
     "output_type": "display_data"
    }
   ],
   "source": [
    "plt.plot(validation_pred[0])\n",
    "plt.plot(validation_pred2[0])"
   ]
  },
  {
   "cell_type": "code",
   "execution_count": null,
   "id": "b89adf79-9861-4c59-9377-0e3bf2c443be",
   "metadata": {},
   "outputs": [],
   "source": []
  }
 ],
 "metadata": {
  "kernelspec": {
   "display_name": "Python 3 (ipykernel)",
   "language": "python",
   "name": "python3"
  },
  "language_info": {
   "codemirror_mode": {
    "name": "ipython",
    "version": 3
   },
   "file_extension": ".py",
   "mimetype": "text/x-python",
   "name": "python",
   "nbconvert_exporter": "python",
   "pygments_lexer": "ipython3",
   "version": "3.8.15"
  }
 },
 "nbformat": 4,
 "nbformat_minor": 5
}
